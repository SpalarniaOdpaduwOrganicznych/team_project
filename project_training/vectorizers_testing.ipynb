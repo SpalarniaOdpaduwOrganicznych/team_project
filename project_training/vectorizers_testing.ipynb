{
 "cells": [
  {
   "cell_type": "markdown",
   "metadata": {},
   "source": [
    "Here I was experimenting with other methods and other vectorizers - but afterall they did not manage to beat the original (TF-IDF + MNB). \n",
    "In general this notebook is worthless. I am leaving it as a fun-fact.\n"
   ]
  },
  {
   "cell_type": "code",
   "execution_count": 9,
   "metadata": {},
   "outputs": [
    {
     "name": "stdout",
     "output_type": "stream",
     "text": [
      "accuracy: 0.9069373942470389\n",
      "confusion matrix:\n",
      " [[506  82]\n",
      " [ 28 566]]\n",
      "classification report:\n",
      "               precision    recall  f1-score   support\n",
      "\n",
      "           0       0.95      0.86      0.90       588\n",
      "           1       0.87      0.95      0.91       594\n",
      "\n",
      "    accuracy                           0.91      1182\n",
      "   macro avg       0.91      0.91      0.91      1182\n",
      "weighted avg       0.91      0.91      0.91      1182\n",
      "\n"
     ]
    }
   ],
   "source": [
    "\n",
    "import pandas as pd \n",
    "import matplotlib.pyplot as plt\n",
    "import warnings\n",
    "warnings.filterwarnings(\"ignore\")\n",
    "from sklearn.feature_extraction.text import CountVectorizer, TfidfVectorizer\n",
    "from sklearn.naive_bayes import MultinomialNB\n",
    "from sklearn.metrics import accuracy_score, confusion_matrix, classification_report\n",
    "from sklearn.model_selection import train_test_split\n",
    "from joblib import dump\n",
    "\n",
    "df_train = pd.read_csv(\"/home/maciej/Desktop/project/team_project_1/project_data/cleaned_train_data_2.csv\")\n",
    "\n",
    "X_train, X_test, y_train, y_test = train_test_split(df_train['tweet'], df_train['label'], test_size=0.1,random_state=69)\n",
    "\n",
    "vectorizer_TDF = TfidfVectorizer()\n",
    "# vectorizer = CountVectorizer()\n",
    "X_train_counts = vectorizer_TDF.fit_transform(X_train)\n",
    "X_test_counts = vectorizer_TDF.transform(X_test)\n",
    "\n",
    "clf = MultinomialNB()\n",
    "clf.fit(X_train_counts, y_train)\n",
    "\n",
    "#model_filename = 'project_models/model_MNB_2.joblib'\n",
    "#dump(clf, model_filename)\n",
    "#vectorizer_filename = 'project_models/tfidf_vectorizer_2.joblib'\n",
    "#dump(vectorizer, vectorizer_filename)\n",
    "\n",
    "y_pred = clf.predict(X_test_counts)\n",
    "accuracy = accuracy_score(y_test, y_pred)\n",
    "print(\"accuracy:\", accuracy)\n",
    "print(\"confusion matrix:\\n\", confusion_matrix(y_test, y_pred))\n",
    "print(\"classification report:\\n\", classification_report(y_test, y_pred))"
   ]
  },
  {
   "cell_type": "code",
   "execution_count": 12,
   "metadata": {},
   "outputs": [],
   "source": [
    "import numpy as np"
   ]
  },
  {
   "cell_type": "code",
   "execution_count": 10,
   "metadata": {},
   "outputs": [
    {
     "name": "stdout",
     "output_type": "stream",
     "text": [
      "accuracy: 0.8\n",
      "aconfusion mtrix :\n",
      " [[69 21]\n",
      " [15 75]]\n",
      "C. Report :\n",
      "               precision    recall  f1-score   support\n",
      "\n",
      "           0       0.82      0.77      0.79        90\n",
      "           1       0.78      0.83      0.81        90\n",
      "\n",
      "    accuracy                           0.80       180\n",
      "   macro avg       0.80      0.80      0.80       180\n",
      "weighted avg       0.80      0.80      0.80       180\n",
      "\n"
     ]
    }
   ],
   "source": [
    "\n",
    "clf_loaded = clf\n",
    "vectorizer_loaded = vectorizer_TDF\n",
    "\n",
    "testing_df = pd.read_csv(\"/home/maciej/Desktop/project/team_project_1/project_data/test_data_1.csv\")\n",
    "\n",
    "if 'tweet' in testing_df.columns and 'label' in testing_df.columns:\n",
    "    X_test_transformed = vectorizer_loaded.transform(testing_df['tweet'])\n",
    "    predictions = clf_loaded.predict(X_test_transformed)\n",
    "\n",
    "    accuracy = accuracy_score(testing_df['label'], predictions)\n",
    "    conf_matrix = confusion_matrix(testing_df['label'], predictions)\n",
    "    class_report = classification_report(testing_df['label'], predictions)\n",
    "\n",
    "    print(\"accuracy:\", accuracy)\n",
    "    print(\"aconfusion mtrix :\\n\", conf_matrix)\n",
    "    print(\"C. Report :\\n\", class_report)\n",
    "else:\n",
    "    print(\"Error: Dataframe does not exist\")"
   ]
  },
  {
   "cell_type": "code",
   "execution_count": 11,
   "metadata": {},
   "outputs": [
    {
     "name": "stdout",
     "output_type": "stream",
     "text": [
      "accuracy: 0.9111675126903553\n",
      "confusion matrix:\n",
      " [[523  65]\n",
      " [ 40 554]]\n",
      "classification report:\n",
      "               precision    recall  f1-score   support\n",
      "\n",
      "           0       0.93      0.89      0.91       588\n",
      "           1       0.89      0.93      0.91       594\n",
      "\n",
      "    accuracy                           0.91      1182\n",
      "   macro avg       0.91      0.91      0.91      1182\n",
      "weighted avg       0.91      0.91      0.91      1182\n",
      "\n",
      "accuracy: 0.7722222222222223\n",
      "aconfusion mtrix :\n",
      " [[66 24]\n",
      " [17 73]]\n",
      "C. Report :\n",
      "               precision    recall  f1-score   support\n",
      "\n",
      "           0       0.80      0.73      0.76        90\n",
      "           1       0.75      0.81      0.78        90\n",
      "\n",
      "    accuracy                           0.77       180\n",
      "   macro avg       0.77      0.77      0.77       180\n",
      "weighted avg       0.77      0.77      0.77       180\n",
      "\n"
     ]
    }
   ],
   "source": [
    "vectorizer_Count =  CountVectorizer()\n",
    "X_train_counts = vectorizer_Count.fit_transform(X_train)\n",
    "X_test_counts = vectorizer_Count.transform(X_test)\n",
    "\n",
    "clf = MultinomialNB()\n",
    "clf.fit(X_train_counts, y_train)\n",
    "\n",
    "y_pred = clf.predict(X_test_counts)\n",
    "accuracy = accuracy_score(y_test, y_pred)\n",
    "print(\"accuracy:\", accuracy)\n",
    "print(\"confusion matrix:\\n\", confusion_matrix(y_test, y_pred))\n",
    "print(\"classification report:\\n\", classification_report(y_test, y_pred))\n",
    "\n",
    "vectorizer_loaded = vectorizer_Count\n",
    "\n",
    "if 'tweet' in testing_df.columns and 'label' in testing_df.columns:\n",
    "    X_test_transformed = vectorizer_loaded.transform(testing_df['tweet'])\n",
    "    predictions = clf_loaded.predict(X_test_transformed)\n",
    "\n",
    "    accuracy = accuracy_score(testing_df['label'], predictions)\n",
    "    conf_matrix = confusion_matrix(testing_df['label'], predictions)\n",
    "    class_report = classification_report(testing_df['label'], predictions)\n",
    "\n",
    "    print(\"accuracy:\", accuracy)\n",
    "    print(\"aconfusion mtrix :\\n\", conf_matrix)\n",
    "    print(\"C. Report :\\n\", class_report)\n",
    "else:\n",
    "    print(\"Error: Dataframe does not exist\")\n"
   ]
  },
  {
   "cell_type": "code",
   "execution_count": 22,
   "metadata": {},
   "outputs": [
    {
     "name": "stderr",
     "output_type": "stream",
     "text": [
      "Read 0M words\n",
      "Number of words:  22896\n",
      "Number of labels: 2\n",
      "Progress: 100.0% words/sec/thread: 1649296 lr:  0.000000 avg.loss:  0.152780 ETA:   0h 0m 0s\n",
      "Read 0M words\n",
      "Number of words:  22896\n",
      "Number of labels: 2\n",
      "Progress: 100.0% words/sec/thread: 1034243 lr:  0.000000 avg.loss:  0.015400 ETA:   0h 0m 0s\n"
     ]
    }
   ],
   "source": [
    "import pandas as pd\n",
    "\n",
    "df_train = pd.read_csv(\"/home/maciej/Desktop/project/team_project_1/project_data/cleaned_train_data_2.csv\")\n",
    "\n",
    "if 'tweet' in df_train.columns and 'label' in df_train.columns:\n",
    "    df_train['label'] = '__label__' + df_train['label'].astype(str)\n",
    "    df_train['fasttext_input'] = df_train['label'] + ' ' + df_train['tweet']\n",
    "    df_train['fasttext_input'].to_csv('fasttext_train.txt', index=False, header=False)\n",
    "else:\n",
    "    print(\"Error: Dataframe does not have the necessary columns.\")\n",
    "import fasttext\n",
    "model = fasttext.train_supervised(input='fasttext_train.txt')\n",
    "model.save_model('model_filename.bin')\n",
    "model = fasttext.train_supervised(input='fasttext_train.txt', lr=0.5, epoch=25, wordNgrams=2, minCount=1)\n"
   ]
  },
  {
   "cell_type": "code",
   "execution_count": 26,
   "metadata": {},
   "outputs": [
    {
     "name": "stdout",
     "output_type": "stream",
     "text": [
      "Accuracy: 0.6166666666666667\n",
      "Confusion Matrix:\n",
      " [[83  7]\n",
      " [62 28]]\n",
      "Classification Report:\n",
      "               precision    recall  f1-score   support\n",
      "\n",
      "           0       0.57      0.92      0.71        90\n",
      "           1       0.80      0.31      0.45        90\n",
      "\n",
      "    accuracy                           0.62       180\n",
      "   macro avg       0.69      0.62      0.58       180\n",
      "weighted avg       0.69      0.62      0.58       180\n",
      "\n"
     ]
    }
   ],
   "source": [
    "from sklearn.metrics import accuracy_score, confusion_matrix, classification_report\n",
    "test_df = testing_df\n",
    "actual_labels = test_df['label']\n",
    "predictions = model.predict(test_df['tweet'].tolist())\n",
    "predicted_labels = [int(label[0].replace('__label__', '')) for label in predictions[0]]  \n",
    "accuracy = accuracy_score(actual_labels, predicted_labels)\n",
    "conf_matrix = confusion_matrix(actual_labels, predicted_labels)\n",
    "class_report = classification_report(actual_labels, predicted_labels)\n",
    "\n",
    "print(\"Accuracy:\", accuracy)\n",
    "print(\"Confusion Matrix:\\n\", conf_matrix)\n",
    "print(\"Classification Report:\\n\", class_report)\n"
   ]
  }
 ],
 "metadata": {
  "kernelspec": {
   "display_name": "Python 3",
   "language": "python",
   "name": "python3"
  },
  "language_info": {
   "codemirror_mode": {
    "name": "ipython",
    "version": 3
   },
   "file_extension": ".py",
   "mimetype": "text/x-python",
   "name": "python",
   "nbconvert_exporter": "python",
   "pygments_lexer": "ipython3",
   "version": "3.10.12"
  }
 },
 "nbformat": 4,
 "nbformat_minor": 2
}
